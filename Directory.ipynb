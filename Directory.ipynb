{
 "cells": [
  {
   "cell_type": "code",
   "execution_count": 1,
   "metadata": {},
   "outputs": [
    {
     "name": "stdout",
     "output_type": "stream",
     "text": [
      "0-quitter\n",
      "1-écrire dans le répertoire\n",
      "2-Recherche dans le répertoire\n",
      "Votre choix ?\n"
     ]
    }
   ],
   "source": [
    "import csv\n",
    "\n",
    "def menu():\n",
    "    print(\"0-quitter\\n1-écrire dans le répertoire\\n2-Recherche dans le répertoire\\nVotre choix ?\")\n",
    "    choix = int(input(\"Votre choix ?\"))\n",
    "    return choix\n",
    "\n",
    "def ajout():   \n",
    "    with open('repertoire.csv','a', newline='') as fichiercsv:\n",
    "        writer=csv.writer(fichiercsv)\n",
    "        nom = input(\"Nom (0 pour terminer) :\")\n",
    "        if nom=='0':\n",
    "            return(menu())\n",
    "        numero = int(input(\"Téléphone\"))\n",
    "        writer.writerow([nom,numero])\n",
    "        return ajout()\n",
    "\n",
    "def recherche():\n",
    "    lecteur = csv.DictReader(open('repertoire.csv','r'))\n",
    "    contacts = []\n",
    "    for ligne in lecteur:\n",
    "        contacts.append(dict(ligne))\n",
    "    nom = input('Entrez un nom : ')\n",
    "    for dictionnaire in contacts:\n",
    "        if nom == dictionnaire['nom']:\n",
    "            num = dictionnaire['numero']\n",
    "            return 'Le numéro recherché est :', num\n",
    "    return 'Inconnu'\n",
    "\n",
    "def main():\n",
    "    choix=5\n",
    "    while choix!=0:\n",
    "        choix = menu()\n",
    "        if choix == 0:\n",
    "            return\n",
    "        if choix == 1:\n",
    "            ajout()\n",
    "        if choix == 2:\n",
    "            print(recherche())\n",
    "\n",
    "main()"
   ]
  }
 ],
 "metadata": {
  "interpreter": {
   "hash": "9f0d103aebe82dfbb47ec724a2ca4fd3dcb0c9038207abb072b7913218171667"
  },
  "kernelspec": {
   "display_name": "Python 3.10.1 64-bit",
   "language": "python",
   "name": "python3"
  },
  "language_info": {
   "codemirror_mode": {
    "name": "ipython",
    "version": 3
   },
   "file_extension": ".py",
   "mimetype": "text/x-python",
   "name": "python",
   "nbconvert_exporter": "python",
   "pygments_lexer": "ipython3",
   "version": "3.10.1"
  },
  "orig_nbformat": 2
 },
 "nbformat": 4,
 "nbformat_minor": 2
}
